{
 "cells": [
  {
   "cell_type": "markdown",
   "id": "89f08571",
   "metadata": {},
   "source": [
    "## Intro to Numpy"
   ]
  },
  {
   "cell_type": "markdown",
   "id": "2bf60844",
   "metadata": {},
   "source": [
    "#### A numpy array consists of data elements of only one type. It is fixed in size but mutable."
   ]
  },
  {
   "cell_type": "markdown",
   "id": "74347729",
   "metadata": {},
   "source": [
    "### Import the Numpy library"
   ]
  },
  {
   "cell_type": "code",
   "execution_count": 1,
   "id": "a65ded05",
   "metadata": {},
   "outputs": [],
   "source": [
    "import numpy as np"
   ]
  },
  {
   "cell_type": "markdown",
   "id": "fc00a8ac",
   "metadata": {},
   "source": [
    "### Cast a python list to a numpy array"
   ]
  },
  {
   "cell_type": "code",
   "execution_count": 2,
   "id": "662fccc4",
   "metadata": {},
   "outputs": [
    {
     "data": {
      "text/plain": [
       "array([0, 1, 2, 3, 4])"
      ]
     },
     "execution_count": 2,
     "metadata": {},
     "output_type": "execute_result"
    }
   ],
   "source": [
    "a = np.array([0,1,2,3,4])\n",
    "a"
   ]
  },
  {
   "cell_type": "markdown",
   "id": "003d7c29",
   "metadata": {},
   "source": [
    "### Check the type of the array"
   ]
  },
  {
   "cell_type": "code",
   "execution_count": 3,
   "id": "5f1a81b1",
   "metadata": {},
   "outputs": [
    {
     "data": {
      "text/plain": [
       "numpy.ndarray"
      ]
     },
     "execution_count": 3,
     "metadata": {},
     "output_type": "execute_result"
    }
   ],
   "source": [
    "type(a)"
   ]
  },
  {
   "cell_type": "markdown",
   "id": "25feb01d",
   "metadata": {},
   "source": [
    "### Check the type of the elements and other attributes of the array"
   ]
  },
  {
   "cell_type": "code",
   "execution_count": 4,
   "id": "16e2718c",
   "metadata": {},
   "outputs": [
    {
     "data": {
      "text/plain": [
       "dtype('int64')"
      ]
     },
     "execution_count": 4,
     "metadata": {},
     "output_type": "execute_result"
    }
   ],
   "source": [
    "a.dtype"
   ]
  },
  {
   "cell_type": "code",
   "execution_count": 5,
   "id": "5e3d8632",
   "metadata": {},
   "outputs": [
    {
     "data": {
      "text/plain": [
       "5"
      ]
     },
     "execution_count": 5,
     "metadata": {},
     "output_type": "execute_result"
    }
   ],
   "source": [
    "a.size"
   ]
  },
  {
   "cell_type": "code",
   "execution_count": 6,
   "id": "c86109fb",
   "metadata": {},
   "outputs": [
    {
     "data": {
      "text/plain": [
       "1"
      ]
     },
     "execution_count": 6,
     "metadata": {},
     "output_type": "execute_result"
    }
   ],
   "source": [
    "a.ndim"
   ]
  },
  {
   "cell_type": "code",
   "execution_count": 7,
   "id": "35e799ba",
   "metadata": {},
   "outputs": [
    {
     "data": {
      "text/plain": [
       "(5,)"
      ]
     },
     "execution_count": 7,
     "metadata": {},
     "output_type": "execute_result"
    }
   ],
   "source": [
    "a.shape"
   ]
  },
  {
   "cell_type": "markdown",
   "id": "1bb7eaa1",
   "metadata": {},
   "source": [
    "#### You can do slicing on it in the same way that you do slicing in Python lists."
   ]
  },
  {
   "cell_type": "markdown",
   "id": "34e52745",
   "metadata": {},
   "source": [
    "### Numpy Statistical Functions"
   ]
  },
  {
   "cell_type": "code",
   "execution_count": 8,
   "id": "3c319ada",
   "metadata": {},
   "outputs": [
    {
     "data": {
      "text/plain": [
       "np.float64(2.5)"
      ]
     },
     "execution_count": 8,
     "metadata": {},
     "output_type": "execute_result"
    }
   ],
   "source": [
    "b = np.array([0,1,2,3,4,5])\n",
    "mean = b.mean()\n",
    "mean"
   ]
  },
  {
   "cell_type": "code",
   "execution_count": 9,
   "id": "a7f1b862",
   "metadata": {},
   "outputs": [
    {
     "data": {
      "text/plain": [
       "np.float64(1.707825127659933)"
      ]
     },
     "execution_count": 9,
     "metadata": {},
     "output_type": "execute_result"
    }
   ],
   "source": [
    "standard_deviation = b.std()\n",
    "standard_deviation"
   ]
  },
  {
   "cell_type": "code",
   "execution_count": 10,
   "id": "264e7042",
   "metadata": {},
   "outputs": [
    {
     "data": {
      "text/plain": [
       "np.int64(5)"
      ]
     },
     "execution_count": 10,
     "metadata": {},
     "output_type": "execute_result"
    }
   ],
   "source": [
    "max_value = b.max()\n",
    "max_value"
   ]
  },
  {
   "cell_type": "code",
   "execution_count": 11,
   "id": "72bdc384",
   "metadata": {},
   "outputs": [
    {
     "data": {
      "text/plain": [
       "np.int64(0)"
      ]
     },
     "execution_count": 11,
     "metadata": {},
     "output_type": "execute_result"
    }
   ],
   "source": [
    "min_value = b.min()\n",
    "min_value"
   ]
  },
  {
   "cell_type": "markdown",
   "id": "3976d1c1",
   "metadata": {},
   "source": [
    "### Numpy Array Operations"
   ]
  },
  {
   "cell_type": "markdown",
   "id": "51f92b18",
   "metadata": {},
   "source": [
    "#### Array Addition"
   ]
  },
  {
   "cell_type": "code",
   "execution_count": 12,
   "id": "f4da3f28",
   "metadata": {},
   "outputs": [
    {
     "data": {
      "text/plain": [
       "array([1, 1])"
      ]
     },
     "execution_count": 12,
     "metadata": {},
     "output_type": "execute_result"
    }
   ],
   "source": [
    "u = np.array([0,1])\n",
    "v = np.array([1,0])\n",
    "\n",
    "add = np.add(u,v)\n",
    "add"
   ]
  },
  {
   "cell_type": "markdown",
   "id": "432a9855",
   "metadata": {},
   "source": [
    "#### Scalar Addition"
   ]
  },
  {
   "cell_type": "code",
   "execution_count": 13,
   "id": "8824895f",
   "metadata": {},
   "outputs": [
    {
     "data": {
      "text/plain": [
       "array([2, 3])"
      ]
     },
     "execution_count": 13,
     "metadata": {},
     "output_type": "execute_result"
    }
   ],
   "source": [
    "scalar_add  = 2 + u  #Adds 2 to each element of u\n",
    "scalar_add"
   ]
  },
  {
   "cell_type": "markdown",
   "id": "c4e5a4b5",
   "metadata": {},
   "source": [
    "#### Array Subtraction"
   ]
  },
  {
   "cell_type": "code",
   "execution_count": 14,
   "id": "8f9938b6",
   "metadata": {},
   "outputs": [
    {
     "data": {
      "text/plain": [
       "array([-1,  1])"
      ]
     },
     "execution_count": 14,
     "metadata": {},
     "output_type": "execute_result"
    }
   ],
   "source": [
    "sub = np.subtract(u,v)\n",
    "sub"
   ]
  },
  {
   "cell_type": "markdown",
   "id": "27ccc84a",
   "metadata": {},
   "source": [
    "#### Array Multiplication\n"
   ]
  },
  {
   "cell_type": "code",
   "execution_count": 15,
   "id": "854e875e",
   "metadata": {},
   "outputs": [
    {
     "data": {
      "text/plain": [
       "array([0, 0])"
      ]
     },
     "execution_count": 15,
     "metadata": {},
     "output_type": "execute_result"
    }
   ],
   "source": [
    "mult = np.multiply(u,v)\n",
    "mult"
   ]
  },
  {
   "cell_type": "markdown",
   "id": "29cd392e",
   "metadata": {},
   "source": [
    "#### Scalar Multiplication"
   ]
  },
  {
   "cell_type": "code",
   "execution_count": 16,
   "id": "6c7ea768",
   "metadata": {},
   "outputs": [
    {
     "data": {
      "text/plain": [
       "array([0, 5])"
      ]
     },
     "execution_count": 16,
     "metadata": {},
     "output_type": "execute_result"
    }
   ],
   "source": [
    "scalar_mult = 5 * u #Multiplies each element of u by 5\n",
    "scalar_mult"
   ]
  },
  {
   "cell_type": "markdown",
   "id": "a08989f6",
   "metadata": {},
   "source": [
    "#### Array Division"
   ]
  },
  {
   "cell_type": "code",
   "execution_count": 17,
   "id": "d2554780",
   "metadata": {},
   "outputs": [
    {
     "data": {
      "text/plain": [
       "array([5., 2., 6.])"
      ]
     },
     "execution_count": 17,
     "metadata": {},
     "output_type": "execute_result"
    }
   ],
   "source": [
    "a = np.array([10, 20, 30])\n",
    "b = np.array([2, 10, 5])\n",
    "\n",
    "c = np.divide(a, b)\n",
    "c"
   ]
  },
  {
   "cell_type": "markdown",
   "id": "92a27252",
   "metadata": {},
   "source": [
    "#### Dot Product / Scalar Product"
   ]
  },
  {
   "cell_type": "code",
   "execution_count": 18,
   "id": "962750f4",
   "metadata": {},
   "outputs": [
    {
     "data": {
      "text/plain": [
       "np.int64(7)"
      ]
     },
     "execution_count": 18,
     "metadata": {},
     "output_type": "execute_result"
    }
   ],
   "source": [
    "d = np.array([1, 2])\n",
    "e = np.array([3, 2])\n",
    "\n",
    "f = np.dot(d, e)\n",
    "f"
   ]
  },
  {
   "cell_type": "markdown",
   "id": "519e80b9",
   "metadata": {},
   "source": [
    "### Mathematical Functions"
   ]
  },
  {
   "cell_type": "code",
   "execution_count": 19,
   "id": "13dc8117",
   "metadata": {},
   "outputs": [
    {
     "data": {
      "text/plain": [
       "array([-2., -1.,  0.,  1.,  2.])"
      ]
     },
     "execution_count": 19,
     "metadata": {},
     "output_type": "execute_result"
    }
   ],
   "source": [
    "np.linspace(-2,2, num = 5) #Generates 5 numbers between -2 and 2"
   ]
  }
 ],
 "metadata": {
  "kernelspec": {
   "display_name": "Python 3",
   "language": "python",
   "name": "python3"
  },
  "language_info": {
   "codemirror_mode": {
    "name": "ipython",
    "version": 3
   },
   "file_extension": ".py",
   "mimetype": "text/x-python",
   "name": "python",
   "nbconvert_exporter": "python",
   "pygments_lexer": "ipython3",
   "version": "3.13.2"
  }
 },
 "nbformat": 4,
 "nbformat_minor": 5
}
